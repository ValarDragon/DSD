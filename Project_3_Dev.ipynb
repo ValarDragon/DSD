{
 "cells": [
  {
   "cell_type": "code",
   "execution_count": 1,
   "metadata": {},
   "outputs": [
    {
     "name": "stderr",
     "output_type": "stream",
     "text": [
      "Using TensorFlow backend.\n"
     ]
    }
   ],
   "source": [
    "import keras\n",
    "import numpy as np\n",
    "import os\n",
    "import matplotlib.pyplot as plt\n",
    "from scipy import misc\n",
    "from keras.models import Model, Sequential\n",
    "from keras.layers import Dense, Activation, Flatten, Dropout\n",
    "import pickle\n",
    "%matplotlib inline"
   ]
  },
  {
   "cell_type": "code",
   "execution_count": 2,
   "metadata": {},
   "outputs": [
    {
     "name": "stdout",
     "output_type": "stream",
     "text": [
      "2500 22500\n"
     ]
    }
   ],
   "source": [
    "test_img_fnames = os.listdir('data/test')\n",
    "train_img_fnames = os.listdir('data/train')\n",
    "percentage_data_size = 5 / 100\n",
    "print(len(test_img_fnames), len(train_img_fnames))"
   ]
  },
  {
   "cell_type": "markdown",
   "metadata": {},
   "source": [
    "# Load in the data\n",
    "First we need to write a function to load into memory each of the images, and then resize them to (224, 224, 3). scipy.misc.imread and scipy.misc.imresize will be useful for this. You should also rescale the images so that they are on a scale of 0 to 1, meaning each pixel value should be between 0 and 1. This can be achieved by dividing by an appropriate constant."
   ]
  },
  {
   "cell_type": "code",
   "execution_count": 3,
   "metadata": {
    "collapsed": true
   },
   "outputs": [],
   "source": [
    "def load_img(filename):\n",
    "    img = misc.imread(filename)\n",
    "    img = misc.imresize(img, (224,224))\n",
    "    return img / 255"
   ]
  },
  {
   "cell_type": "code",
   "execution_count": 4,
   "metadata": {
    "collapsed": true
   },
   "outputs": [],
   "source": [
    "test_imgs = [load_img(os.path.join('data/test', fname)) for fname in test_img_fnames[:int(len(test_img_fnames) * percentage_data_size)]]\n",
    "test_imgs = np.stack(test_imgs)"
   ]
  },
  {
   "cell_type": "code",
   "execution_count": 5,
   "metadata": {
    "collapsed": true
   },
   "outputs": [],
   "source": [
    "train_imgs = [load_img(os.path.join('data/train', fname)) for fname in train_img_fnames[:int(len(train_img_fnames) * percentage_data_size)]]\n",
    "train_imgs = np.stack(train_imgs)"
   ]
  },
  {
   "cell_type": "code",
   "execution_count": 6,
   "metadata": {
    "collapsed": true
   },
   "outputs": [],
   "source": [
    "with open('data/train_labels.pkl', 'rb') as f:\n",
    "    train_labels = pickle.load(f)"
   ]
  },
  {
   "cell_type": "markdown",
   "metadata": {},
   "source": [
    "# Load Pretrained VGG network\n",
    "Now in order to generate the CNN featurizations of our images we need to load a pretrained network. Note that running this network will take a long time on CPU so you can feel free to skip this section and just load the featurizations I provided in the next section"
   ]
  },
  {
   "cell_type": "code",
   "execution_count": null,
   "metadata": {
    "collapsed": true
   },
   "outputs": [],
   "source": [
    "VGG16 = keras.applications.vgg16.VGG16(input_shape=(224, 224, 3), weights='imagenet', include_top=False)"
   ]
  },
  {
   "cell_type": "code",
   "execution_count": null,
   "metadata": {
    "collapsed": true
   },
   "outputs": [],
   "source": [
    "VGG16.summary()"
   ]
  },
  {
   "cell_type": "code",
   "execution_count": null,
   "metadata": {
    "collapsed": true
   },
   "outputs": [],
   "source": [
    "featurized_training_data = VGG16.predict(train_imgs, verbose=1)"
   ]
  },
  {
   "cell_type": "code",
   "execution_count": null,
   "metadata": {
    "collapsed": true
   },
   "outputs": [],
   "source": [
    "featurized_test_data = VGG16.predict(test_imgs, verbose=1)"
   ]
  },
  {
   "cell_type": "code",
   "execution_count": 45,
   "metadata": {},
   "outputs": [
    {
     "ename": "KeyboardInterrupt",
     "evalue": "",
     "output_type": "error",
     "traceback": [
      "\u001b[0;31m---------------------------------------------------------------------------\u001b[0m",
      "\u001b[0;31mKeyboardInterrupt\u001b[0m                         Traceback (most recent call last)",
      "\u001b[0;32m<ipython-input-45-afd3a8600825>\u001b[0m in \u001b[0;36m<module>\u001b[0;34m()\u001b[0m\n\u001b[1;32m      2\u001b[0m \u001b[0;32mimport\u001b[0m \u001b[0mpickle\u001b[0m\u001b[0;34m\u001b[0m\u001b[0m\n\u001b[1;32m      3\u001b[0m \u001b[0;32mwith\u001b[0m \u001b[0mopen\u001b[0m\u001b[0;34m(\u001b[0m\u001b[0;34m'featurized_train_imgs_gen.pkl'\u001b[0m\u001b[0;34m,\u001b[0m \u001b[0;34m'wb'\u001b[0m\u001b[0;34m)\u001b[0m \u001b[0;32mas\u001b[0m \u001b[0mf\u001b[0m\u001b[0;34m:\u001b[0m\u001b[0;34m\u001b[0m\u001b[0m\n\u001b[0;32m----> 4\u001b[0;31m     \u001b[0mpickle\u001b[0m\u001b[0;34m.\u001b[0m\u001b[0mdump\u001b[0m\u001b[0;34m(\u001b[0m\u001b[0mfeaturized_training_data\u001b[0m\u001b[0;34m,\u001b[0m \u001b[0mf\u001b[0m\u001b[0;34m)\u001b[0m\u001b[0;34m\u001b[0m\u001b[0m\n\u001b[0m\u001b[1;32m      5\u001b[0m \u001b[0;32mwith\u001b[0m \u001b[0mopen\u001b[0m\u001b[0;34m(\u001b[0m\u001b[0;34m'featurized_test_imgs_gen.pkl'\u001b[0m\u001b[0;34m,\u001b[0m \u001b[0;34m'wb'\u001b[0m\u001b[0;34m)\u001b[0m \u001b[0;32mas\u001b[0m \u001b[0mf\u001b[0m\u001b[0;34m:\u001b[0m\u001b[0;34m\u001b[0m\u001b[0m\n\u001b[1;32m      6\u001b[0m     \u001b[0mpickle\u001b[0m\u001b[0;34m.\u001b[0m\u001b[0mdump\u001b[0m\u001b[0;34m(\u001b[0m\u001b[0mfeaturized_test_data\u001b[0m\u001b[0;34m,\u001b[0m \u001b[0mf\u001b[0m\u001b[0;34m)\u001b[0m\u001b[0;34m\u001b[0m\u001b[0m\n",
      "\u001b[0;31mKeyboardInterrupt\u001b[0m: "
     ]
    }
   ],
   "source": [
    "# Save featurizations, I changed filenames so as not to overwrite the original\n",
    "import pickle\n",
    "with open('featurized_train_imgs_gen.pkl', 'wb') as f:\n",
    "    pickle.dump(featurized_training_data, f)\n",
    "with open('featurized_test_imgs_gen.pkl', 'wb') as f:\n",
    "    pickle.dump(featurized_test_data, f)"
   ]
  },
  {
   "cell_type": "markdown",
   "metadata": {},
   "source": [
    "# Load featurizations"
   ]
  },
  {
   "cell_type": "code",
   "execution_count": 7,
   "metadata": {
    "collapsed": true
   },
   "outputs": [],
   "source": [
    "import pickle\n",
    "with open('featurized_train_imgs.pkl', 'rb') as f:\n",
    "    featurized_training_data = pickle.load(f)\n",
    "with open('featurized_test_imgs.pkl', 'rb') as f:\n",
    "    featurized_test_data = pickle.load(f)"
   ]
  },
  {
   "cell_type": "markdown",
   "metadata": {},
   "source": [
    "# Create you network\n",
    "Now we need to create a network to take in the featurizations and output a label of dog or not dog. To do this you should use Keras' Sequential model. We will need to flatten our (7,7,512) feature input into a vector (HINT: lookup flatten in keras documentation) and then add a Dense layer with some number of neurons (play around with the number of neurons to improve your performance). Then finally we need a Dense layer with 1 neuron and a sigmoid activation to represent our label output. You might want to use more or less model.add calls than have been provided"
   ]
  },
  {
   "cell_type": "code",
   "execution_count": 41,
   "metadata": {},
   "outputs": [],
   "source": [
    "model = Sequential()\n",
    "model.add(keras.layers.Flatten(input_shape=(7,7,512)))\n",
    "model.add(keras.layers.Dense(64, activation=\"tanh\"))\n",
    "model.add(keras.layers.Dense(32, activation=\"sigmoid\"))\n",
    "model.add(keras.layers.Dense(1, activation=\"sigmoid\"))"
   ]
  },
  {
   "cell_type": "code",
   "execution_count": 42,
   "metadata": {},
   "outputs": [
    {
     "name": "stdout",
     "output_type": "stream",
     "text": [
      "_________________________________________________________________\n",
      "Layer (type)                 Output Shape              Param #   \n",
      "=================================================================\n",
      "flatten_7 (Flatten)          (None, 25088)             0         \n",
      "_________________________________________________________________\n",
      "dense_11 (Dense)             (None, 64)                1605696   \n",
      "_________________________________________________________________\n",
      "dense_12 (Dense)             (None, 32)                2080      \n",
      "_________________________________________________________________\n",
      "dense_13 (Dense)             (None, 1)                 33        \n",
      "=================================================================\n",
      "Total params: 1,607,809\n",
      "Trainable params: 1,607,809\n",
      "Non-trainable params: 0\n",
      "_________________________________________________________________\n"
     ]
    }
   ],
   "source": [
    "model.summary()"
   ]
  },
  {
   "cell_type": "markdown",
   "metadata": {},
   "source": [
    "# Now we need to train the network\n",
    "You need to compile the model first, and then use the fit function. You should use binary crossentropy as your loss."
   ]
  },
  {
   "cell_type": "code",
   "execution_count": 43,
   "metadata": {
    "collapsed": true
   },
   "outputs": [],
   "source": [
    "model.compile(optimizer=\"sgd\", loss=\"binary_crossentropy\")"
   ]
  },
  {
   "cell_type": "code",
   "execution_count": 44,
   "metadata": {},
   "outputs": [
    {
     "name": "stdout",
     "output_type": "stream",
     "text": [
      "Epoch 1/20\n",
      "10000/10000 [==============================] - 8s - loss: 0.5105     \n",
      "Epoch 2/20\n",
      "10000/10000 [==============================] - 9s - loss: 0.3497     \n",
      "Epoch 3/20\n",
      "10000/10000 [==============================] - 8s - loss: 0.2977     \n",
      "Epoch 4/20\n",
      "10000/10000 [==============================] - 8s - loss: 0.2705     \n",
      "Epoch 5/20\n",
      "10000/10000 [==============================] - 8s - loss: 0.2492     \n",
      "Epoch 6/20\n",
      "10000/10000 [==============================] - 8s - loss: 0.2297     \n",
      "Epoch 7/20\n",
      "10000/10000 [==============================] - 8s - loss: 0.2163     \n",
      "Epoch 8/20\n",
      "10000/10000 [==============================] - 8s - loss: 0.2114     \n",
      "Epoch 9/20\n",
      "10000/10000 [==============================] - 8s - loss: 0.1963     \n",
      "Epoch 10/20\n",
      "10000/10000 [==============================] - 8s - loss: 0.1878     \n",
      "Epoch 11/20\n",
      "10000/10000 [==============================] - 8s - loss: 0.1782     \n",
      "Epoch 12/20\n",
      "10000/10000 [==============================] - 8s - loss: 0.1759     \n",
      "Epoch 13/20\n",
      "10000/10000 [==============================] - 8s - loss: 0.1611     \n",
      "Epoch 14/20\n",
      "10000/10000 [==============================] - 8s - loss: 0.1597     \n",
      "Epoch 15/20\n",
      "10000/10000 [==============================] - 8s - loss: 0.1630     \n",
      "Epoch 16/20\n",
      "10000/10000 [==============================] - 8s - loss: 0.1501     \n",
      "Epoch 17/20\n",
      "10000/10000 [==============================] - 8s - loss: 0.1349     \n",
      "Epoch 18/20\n",
      "10000/10000 [==============================] - 8s - loss: 0.1512     \n",
      "Epoch 19/20\n",
      "10000/10000 [==============================] - 8s - loss: 0.1241     \n",
      "Epoch 20/20\n",
      "10000/10000 [==============================] - 8s - loss: 0.1396     \n"
     ]
    },
    {
     "data": {
      "text/plain": [
       "<keras.callbacks.History at 0x7fb1375311d0>"
      ]
     },
     "execution_count": 44,
     "metadata": {},
     "output_type": "execute_result"
    }
   ],
   "source": [
    "model.fit(featurized_training_data, train_labels, epochs=20)"
   ]
  },
  {
   "cell_type": "markdown",
   "metadata": {},
   "source": [
    "Now we need to predict labels for the test set and output it to file. Use keras predict for this. Remember that the predictions are real values between 0 and 1 and you should be outputting just 0 or 1, not a value between."
   ]
  },
  {
   "cell_type": "code",
   "execution_count": 46,
   "metadata": {
    "collapsed": true
   },
   "outputs": [],
   "source": [
    "predictions = model.predict(featurized_test_data)"
   ]
  },
  {
   "cell_type": "code",
   "execution_count": 51,
   "metadata": {},
   "outputs": [],
   "source": [
    "i = 2\n",
    "with open('test_labels_%s.txt' % i, 'w') as f:\n",
    "    f.write(\"Id,Label\\n\")\n",
    "    for i, val in enumerate(predictions):\n",
    "        prediction = 0 if val < .5 else 1\n",
    "        f.write(str(i))\n",
    "        f.write(',')\n",
    "        f.write(str(prediction))\n",
    "        f.write('\\n')"
   ]
  },
  {
   "cell_type": "code",
   "execution_count": 54,
   "metadata": {},
   "outputs": [
    {
     "name": "stdout",
     "output_type": "stream",
     "text": [
      "Disagreement on 23 , with unknown result\n",
      "Disagreement on 59 , with unknown result\n",
      "Disagreement on 79 , with unknown result\n",
      "Disagreement on 85 , with unknown result\n",
      "Disagreement on 89 , with unknown result\n",
      "Disagreement on 93 , with unknown result\n",
      "Disagreement on 107 , with unknown result\n",
      "Disagreement on 116 , with unknown result\n",
      "Disagreement on 132 , with unknown result\n",
      "Disagreement on 154 , with unknown result\n",
      "Disagreement on 174 , with unknown result\n",
      "Disagreement on 195 , with unknown result\n",
      "Disagreement on 202 , with unknown result\n",
      "Disagreement on 215 , with unknown result\n",
      "Disagreement on 271 , with unknown result\n",
      "Disagreement on 279 , with unknown result\n",
      "Disagreement on 296 , with unknown result\n",
      "Disagreement on 322 , with unknown result\n",
      "Disagreement on 335 , with unknown result\n",
      "Disagreement on 350 , with unknown result\n",
      "Disagreement on 351 , with unknown result\n",
      "Disagreement on 366 , with unknown result\n",
      "Disagreement on 378 , with unknown result\n",
      "Disagreement on 397 , with unknown result\n",
      "Disagreement on 418 , with unknown result\n",
      "Disagreement on 438 , with unknown result\n",
      "Disagreement on 452 , with unknown result\n",
      "Disagreement on 494 , with unknown result\n",
      "Disagreement on 524 , with unknown result\n",
      "Disagreement on 525 , with unknown result\n",
      "Disagreement on 544 , with unknown result\n",
      "Disagreement on 564 , with unknown result\n",
      "Disagreement on 575 , with unknown result\n",
      "Disagreement on 597 , with unknown result\n",
      "Disagreement on 604 , with unknown result\n",
      "Disagreement on 610 , with unknown result\n",
      "Disagreement on 624 , with unknown result\n",
      "Disagreement on 641 , with unknown result\n",
      "Disagreement on 715 , with unknown result\n",
      "Disagreement on 719 , with unknown result\n",
      "Disagreement on 726 , with unknown result\n",
      "Disagreement on 740 , with unknown result\n",
      "Disagreement on 749 , with unknown result\n",
      "Disagreement on 750 , with unknown result\n",
      "Disagreement on 761 , with unknown result\n",
      "Disagreement on 766 , with unknown result\n",
      "Disagreement on 849 , with unknown result\n",
      "Disagreement on 857 , with unknown result\n",
      "Disagreement on 879 , with unknown result\n",
      "Disagreement on 913 , with unknown result\n",
      "Disagreement on 923 , with unknown result\n",
      "Disagreement on 946 , with unknown result\n",
      "Disagreement on 972 , with unknown result\n",
      "Disagreement on 986 , with unknown result\n",
      "Disagreement on 999 , with unknown result\n",
      "Disagreement on 1065 , with unknown result\n",
      "Disagreement on 1069 , with unknown result\n",
      "Disagreement on 1120 , with unknown result\n",
      "Disagreement on 1149 , with unknown result\n",
      "Disagreement on 1172 , with unknown result\n",
      "Disagreement on 1176 , with unknown result\n",
      "Disagreement on 1179 , with unknown result\n",
      "Disagreement on 1215 , with unknown result\n",
      "Disagreement on 1216 , with unknown result\n",
      "Disagreement on 1231 , with unknown result\n",
      "Disagreement on 1239 , with unknown result\n",
      "Disagreement on 1264 , with unknown result\n",
      "Disagreement on 1306 , with unknown result\n",
      "Disagreement on 1324 , with unknown result\n",
      "Disagreement on 1326 , with unknown result\n",
      "Disagreement on 1364 , with unknown result\n",
      "Disagreement on 1367 , with unknown result\n",
      "Disagreement on 1401 , with unknown result\n",
      "Disagreement on 1407 , with unknown result\n",
      "Disagreement on 1454 , with unknown result\n",
      "Disagreement on 1458 , with unknown result\n",
      "Disagreement on 1464 , with unknown result\n",
      "Disagreement on 1482 , with unknown result\n",
      "Disagreement on 1489 , with unknown result\n",
      "Disagreement on 1497 , with unknown result\n",
      "Disagreement on 1521 , with unknown result\n",
      "Disagreement on 1539 , with unknown result\n",
      "Disagreement on 1550 , with unknown result\n",
      "Disagreement on 1571 , with unknown result\n",
      "Disagreement on 1577 , with unknown result\n",
      "Disagreement on 1601 , with unknown result\n",
      "Disagreement on 1602 , with unknown result\n",
      "Disagreement on 1619 , with unknown result\n",
      "Disagreement on 1633 , with unknown result\n",
      "Disagreement on 1638 , with unknown result\n",
      "Disagreement on 1640 , with unknown result\n",
      "Disagreement on 1654 , with unknown result\n",
      "Disagreement on 1666 , with unknown result\n",
      "Disagreement on 1669 , with unknown result\n",
      "Disagreement on 1670 , with unknown result\n",
      "Disagreement on 1685 , with unknown result\n",
      "Disagreement on 1710 , with unknown result\n",
      "Disagreement on 1718 , with unknown result\n",
      "Disagreement on 1724 , with unknown result\n",
      "Disagreement on 1745 , with unknown result\n",
      "Disagreement on 1770 , with unknown result\n",
      "Disagreement on 1782 , with unknown result\n",
      "Disagreement on 1787 , with unknown result\n",
      "Disagreement on 1797 , with unknown result\n",
      "Disagreement on 1804 , with unknown result\n",
      "Disagreement on 1825 , with unknown result\n",
      "Disagreement on 1842 , with unknown result\n",
      "Disagreement on 1843 , with unknown result\n",
      "Disagreement on 1858 , with unknown result\n",
      "Disagreement on 1865 , with unknown result\n",
      "Disagreement on 1875 , with unknown result\n",
      "Disagreement on 1888 , with unknown result\n",
      "Disagreement on 1891 , with unknown result\n",
      "Disagreement on 1905 , with unknown result\n",
      "Disagreement on 1937 , with unknown result\n",
      "Disagreement on 1938 , with unknown result\n",
      "Disagreement on 2011 , with unknown result\n",
      "Disagreement on 2018 , with unknown result\n",
      "Disagreement on 2032 , with unknown result\n",
      "Disagreement on 2038 , with unknown result\n",
      "Disagreement on 2044 , with unknown result\n",
      "Disagreement on 2055 , with unknown result\n",
      "Disagreement on 2088 , with unknown result\n",
      "Disagreement on 2119 , with unknown result\n",
      "Disagreement on 2127 , with unknown result\n",
      "Disagreement on 2143 , with unknown result\n",
      "Disagreement on 2146 , with unknown result\n",
      "Disagreement on 2172 , with unknown result\n",
      "Disagreement on 2175 , with unknown result\n",
      "Disagreement on 2202 , with unknown result\n",
      "Disagreement on 2209 , with unknown result\n",
      "Disagreement on 2216 , with unknown result\n",
      "Disagreement on 2238 , with unknown result\n",
      "Disagreement on 2241 , with unknown result\n",
      "Disagreement on 2245 , with unknown result\n",
      "Disagreement on 2276 , with unknown result\n",
      "Disagreement on 2286 , with unknown result\n",
      "Disagreement on 2313 , with unknown result\n",
      "Disagreement on 2319 , with unknown result\n",
      "Disagreement on 2321 , with unknown result\n",
      "Disagreement on 2324 , with unknown result\n",
      "Disagreement on 2340 , with unknown result\n",
      "Disagreement on 2375 , with unknown result\n",
      "Disagreement on 2378 , with unknown result\n",
      "Disagreement on 2379 , with unknown result\n",
      "Disagreement on 2402 , with unknown result\n",
      "Disagreement on 2421 , with unknown result\n",
      "Disagreement on 2452 , with unknown result\n",
      "Disagreement on 2461 , with unknown result\n",
      "Disagreement on 2496 , with unknown result\n",
      "model 1 scored 1 more than model 2\n",
      "Net number of different files is 151\n",
      "Number of unknown lines is 150\n"
     ]
    }
   ],
   "source": [
    "# Add disagreeing images manually here. \n",
    "known_dic = {0:1, 16:1}\n",
    "def compare_files(f1, f2):\n",
    "    f1 = open(f1,'r')\n",
    "    f2 = open(f2,'r')\n",
    "    f1.readline()\n",
    "    f2.readline()\n",
    "    count = 0\n",
    "    netdif = 0\n",
    "    unknowns = 0\n",
    "    for line_num in range(2500):\n",
    "        mod_1 = f1.readline()\n",
    "        pred_1 = int(mod_1[mod_1.index(\",\")+1:][:-1])\n",
    "        \n",
    "        mod_2 = f2.readline()\n",
    "        pred_2 = int(mod_2[mod_2.index(\",\")+1:][:-1])\n",
    "        if pred_2 != pred_1:\n",
    "            netdif += 1\n",
    "            if line_num in known_dic:\n",
    "                if known_dic[line_num] == pred_1:\n",
    "                    count += 1\n",
    "                else:\n",
    "                    count -= 1\n",
    "            else:\n",
    "                print(\"Disagreement on %s , with unknown result\" % line_num)\n",
    "                unknowns += 1\n",
    "    print(\"model 1 scored \" + str(count) + \" more than model 2\")\n",
    "    print(\"Net number of different files is \" + str(netdif))\n",
    "    print(\"Number of unknown lines is \" + str(unknowns))\n",
    "compare_files('test_labels_2.txt','test_labels_1.txt')\n",
    "        "
   ]
  },
  {
   "cell_type": "markdown",
   "metadata": {},
   "source": [
    "# Part 2"
   ]
  },
  {
   "cell_type": "code",
   "execution_count": 23,
   "metadata": {
    "collapsed": true
   },
   "outputs": [],
   "source": [
    "from sklearn.decomposition import PCA"
   ]
  },
  {
   "cell_type": "markdown",
   "metadata": {},
   "source": [
    "Now we want to run PCA on our images and our featurizations to see the difference. To save time we will just run it on the first 500 images. Take the first 500 images and 500 featurizations and reshape them into shape (500, x)."
   ]
  },
  {
   "cell_type": "code",
   "execution_count": null,
   "metadata": {
    "collapsed": true
   },
   "outputs": [],
   "source": [
    "original_imgs = ???\n",
    "featurized = ???"
   ]
  },
  {
   "cell_type": "markdown",
   "metadata": {},
   "source": [
    "Run PCA with 2 components on the original images"
   ]
  },
  {
   "cell_type": "code",
   "execution_count": null,
   "metadata": {
    "collapsed": true
   },
   "outputs": [],
   "source": [
    "pca_orig = ???\n",
    "# YOUR CODE HERE"
   ]
  },
  {
   "cell_type": "markdown",
   "metadata": {},
   "source": [
    "Run PCA with 2 components on the featurizations"
   ]
  },
  {
   "cell_type": "code",
   "execution_count": null,
   "metadata": {
    "collapsed": true
   },
   "outputs": [],
   "source": [
    "pca_featurized = ???\n",
    "# YOUR CODE HERE"
   ]
  },
  {
   "cell_type": "markdown",
   "metadata": {},
   "source": [
    "Project the original images and featurizations onto the 2 principal components. (HINT: look at the PCA.transform function)"
   ]
  },
  {
   "cell_type": "code",
   "execution_count": null,
   "metadata": {
    "collapsed": true
   },
   "outputs": [],
   "source": [
    "projected_orig_imgs = ???\n",
    "projected_featurized = ???"
   ]
  },
  {
   "cell_type": "markdown",
   "metadata": {},
   "source": [
    "Find the indices of the labels that are cats and the indices that are dogs. np.where will make this very easy"
   ]
  },
  {
   "cell_type": "code",
   "execution_count": null,
   "metadata": {
    "collapsed": true
   },
   "outputs": [],
   "source": [
    "labels = train_labels[:500]\n",
    "cat_inds = ???\n",
    "dog_inds = ???"
   ]
  },
  {
   "cell_type": "markdown",
   "metadata": {},
   "source": [
    "Plot the PCA of the original images and the PCA of the featurization"
   ]
  },
  {
   "cell_type": "code",
   "execution_count": null,
   "metadata": {
    "collapsed": true
   },
   "outputs": [],
   "source": [
    "plt.scatter(projected_orig_imgs[cat_inds ,0], projected_orig_imgs[cat_inds, 1], c='red')\n",
    "plt.scatter(projected_orig_imgs[dog_inds, 0], projected_orig_imgs[dog_inds, 1], c='green')"
   ]
  },
  {
   "cell_type": "code",
   "execution_count": null,
   "metadata": {
    "collapsed": true
   },
   "outputs": [],
   "source": [
    "plt.scatter(projected_featurized[cat_inds ,0], projected_featurized[cat_inds, 1], c='red')\n",
    "plt.scatter(projected_featurized[dog_inds, 0], projected_featurized[dog_inds, 1], c='green')"
   ]
  },
  {
   "cell_type": "code",
   "execution_count": null,
   "metadata": {
    "collapsed": true
   },
   "outputs": [],
   "source": []
  }
 ],
 "metadata": {
  "kernelspec": {
   "display_name": "Python 3",
   "language": "python",
   "name": "python3"
  },
  "language_info": {
   "codemirror_mode": {
    "name": "ipython",
    "version": 3
   },
   "file_extension": ".py",
   "mimetype": "text/x-python",
   "name": "python",
   "nbconvert_exporter": "python",
   "pygments_lexer": "ipython3",
   "version": "3.4.3"
  }
 },
 "nbformat": 4,
 "nbformat_minor": 2
}
